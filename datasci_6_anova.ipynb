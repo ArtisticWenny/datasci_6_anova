{
  "nbformat": 4,
  "nbformat_minor": 0,
  "metadata": {
    "colab": {
      "provenance": [],
      "authorship_tag": "ABX9TyNU5hB3rgloC9scAlmKPEuU",
      "include_colab_link": true
    },
    "kernelspec": {
      "name": "python3",
      "display_name": "Python 3"
    },
    "language_info": {
      "name": "python"
    }
  },
  "cells": [
    {
      "cell_type": "markdown",
      "metadata": {
        "id": "view-in-github",
        "colab_type": "text"
      },
      "source": [
        "<a href=\"https://colab.research.google.com/github/ArtisticWenny/datasci_6_anova/blob/main/datasci_6_anova.ipynb\" target=\"_parent\"><img src=\"https://colab.research.google.com/assets/colab-badge.svg\" alt=\"Open In Colab\"/></a>"
      ]
    },
    {
      "cell_type": "code",
      "execution_count": null,
      "metadata": {
        "id": "9_tHF9ORJopI"
      },
      "outputs": [],
      "source": [
        "## bringing in data\n",
        "from ucimlrepo import fetch_ucirepo\n",
        "\n",
        "##bring in packages for dataframe + stats\n",
        "import pandas as pd\n",
        "import scipy.stats as stats\n",
        "import statsmodels.api as sm\n",
        "from statsmodels.formula.api import ols\n",
        "\n",
        "## for visualization\n",
        "import matplotlib.pyplot as plt"
      ]
    },
    {
      "cell_type": "code",
      "source": [
        "from google.colab import drive\n",
        "\n",
        "drive.mount('/content/drive')"
      ],
      "metadata": {
        "id": "I-XZ9gH-LWmr"
      },
      "execution_count": null,
      "outputs": []
    },
    {
      "cell_type": "code",
      "source": [
        "csv_file_path = ['/content/drive/MyDrive/       .csv']\n",
        "\n",
        "df = pd.read_csv('/content/drive/MyDrive/       .csv')\n",
        "\n",
        "print(df.head)"
      ],
      "metadata": {
        "id": "R8BOnK6HLayg"
      },
      "execution_count": null,
      "outputs": []
    }
  ]
}