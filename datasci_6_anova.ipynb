{
  "nbformat": 4,
  "nbformat_minor": 0,
  "metadata": {
    "colab": {
      "provenance": [],
      "authorship_tag": "ABX9TyP+YVzQqghPZmGz9OxUzBL2",
      "include_colab_link": true
    },
    "kernelspec": {
      "name": "python3",
      "display_name": "Python 3"
    },
    "language_info": {
      "name": "python"
    }
  },
  "cells": [
    {
      "cell_type": "markdown",
      "metadata": {
        "id": "view-in-github",
        "colab_type": "text"
      },
      "source": [
        "<a href=\"https://colab.research.google.com/github/ArtisticWenny/datasci_6_anova/blob/main/datasci_6_anova.ipynb\" target=\"_parent\"><img src=\"https://colab.research.google.com/assets/colab-badge.svg\" alt=\"Open In Colab\"/></a>"
      ]
    },
    {
      "cell_type": "markdown",
      "source": [
        "Normality Test"
      ],
      "metadata": {
        "id": "GIJOwa6ZaSQ2"
      }
    },
    {
      "cell_type": "code",
      "source": [
        "!pip install ucimlrepo"
      ],
      "metadata": {
        "colab": {
          "base_uri": "https://localhost:8080/"
        },
        "id": "ha9yLpCaNeeX",
        "outputId": "10c07cea-41b8-4697-ffd7-607e6eb1e6ea"
      },
      "execution_count": 1,
      "outputs": [
        {
          "output_type": "stream",
          "name": "stdout",
          "text": [
            "Collecting ucimlrepo\n",
            "  Downloading ucimlrepo-0.0.3-py3-none-any.whl (7.0 kB)\n",
            "Installing collected packages: ucimlrepo\n",
            "Successfully installed ucimlrepo-0.0.3\n"
          ]
        }
      ]
    },
    {
      "cell_type": "code",
      "execution_count": 8,
      "metadata": {
        "id": "9_tHF9ORJopI"
      },
      "outputs": [],
      "source": [
        "## bringing in data\n",
        "from ucimlrepo import fetch_ucirepo\n",
        "\n",
        "##bring in packages for dataframe + stats\n",
        "import pandas as pd\n",
        "import scipy.stats as stats\n",
        "import statsmodels.api as sm\n",
        "from statsmodels.formula.api import ols\n",
        "from scipy.stats import shapiro\n",
        "from scipy.stats import levene\n",
        "\n",
        "## for visualization\n",
        "import matplotlib.pyplot as plt"
      ]
    },
    {
      "cell_type": "code",
      "source": [
        "from ucimlrepo import fetch_ucirepo\n",
        "\n",
        "# fetch dataset\n",
        "diabetes_130_us_hospitals_for_years_1999_2008 = fetch_ucirepo(id=296)\n",
        "\n",
        "# data (as pandas dataframes)\n",
        "X = diabetes_130_us_hospitals_for_years_1999_2008.data.features\n",
        "y = diabetes_130_us_hospitals_for_years_1999_2008.data.targets\n",
        "\n",
        "# metadata\n",
        "print(diabetes_130_us_hospitals_for_years_1999_2008.metadata)\n",
        "\n",
        "# variable information\n",
        "print(diabetes_130_us_hospitals_for_years_1999_2008.variables)\n"
      ],
      "metadata": {
        "id": "XREhJpt0eloK"
      },
      "execution_count": null,
      "outputs": []
    },
    {
      "cell_type": "code",
      "source": [
        "\n",
        "df = pd.DataFrame(X)\n",
        "df"
      ],
      "metadata": {
        "id": "Nzlgy-cFaRgM"
      },
      "execution_count": null,
      "outputs": []
    },
    {
      "cell_type": "code",
      "source": [
        "stats.shapiro(df['num_lab_procedures'])"
      ],
      "metadata": {
        "colab": {
          "base_uri": "https://localhost:8080/"
        },
        "id": "bcMa1nlAmrFy",
        "outputId": "7ddf60b6-741c-48ff-a047-ee45dc5c0df4"
      },
      "execution_count": 5,
      "outputs": [
        {
          "output_type": "stream",
          "name": "stderr",
          "text": [
            "/usr/local/lib/python3.10/dist-packages/scipy/stats/_morestats.py:1882: UserWarning: p-value may not be accurate for N > 5000.\n",
            "  warnings.warn(\"p-value may not be accurate for N > 5000.\")\n"
          ]
        },
        {
          "output_type": "execute_result",
          "data": {
            "text/plain": [
              "ShapiroResult(statistic=0.9848576188087463, pvalue=0.0)"
            ]
          },
          "metadata": {},
          "execution_count": 5
        }
      ]
    },
    {
      "cell_type": "markdown",
      "source": [
        "P Value Interpretation: 0.0 = the observed difference is unlikely to be due to chance"
      ],
      "metadata": {
        "id": "nx-eZT-aaZOL"
      }
    },
    {
      "cell_type": "markdown",
      "source": [
        "HOMOSCEDASTICITY TEST"
      ],
      "metadata": {
        "id": "OB5_gEcMbRxh"
      }
    },
    {
      "cell_type": "code",
      "source": [
        "group = df['num_lab_procedures']\n",
        "\n",
        "# Perform the Levene's test on the dependent variable within each group\n",
        "pvalue = levene(df['time_in_hospital'][group == 0], df['time_in_hospital'][group == 1])\n",
        "\n",
        "print('P-value for Levene\\'s test:', pvalue)"
      ],
      "metadata": {
        "colab": {
          "base_uri": "https://localhost:8080/"
        },
        "id": "3xH4ZrqGbm1n",
        "outputId": "d292221b-865c-4449-a99b-6e872900e8e1"
      },
      "execution_count": 14,
      "outputs": [
        {
          "output_type": "stream",
          "name": "stdout",
          "text": [
            "P-value for Levene's test: LeveneResult(statistic=nan, pvalue=nan)\n"
          ]
        }
      ]
    }
  ]
}