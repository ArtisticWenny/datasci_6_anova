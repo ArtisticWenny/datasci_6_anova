{
  "nbformat": 4,
  "nbformat_minor": 0,
  "metadata": {
    "colab": {
      "provenance": [],
      "authorship_tag": "ABX9TyOiKNbY4myR0661uveMjWCz",
      "include_colab_link": true
    },
    "kernelspec": {
      "name": "python3",
      "display_name": "Python 3"
    },
    "language_info": {
      "name": "python"
    }
  },
  "cells": [
    {
      "cell_type": "markdown",
      "metadata": {
        "id": "view-in-github",
        "colab_type": "text"
      },
      "source": [
        "<a href=\"https://colab.research.google.com/github/ArtisticWenny/datasci_6_anova/blob/main/datasci_6_anova.ipynb\" target=\"_parent\"><img src=\"https://colab.research.google.com/assets/colab-badge.svg\" alt=\"Open In Colab\"/></a>"
      ]
    },
    {
      "cell_type": "markdown",
      "source": [
        "Normality Test"
      ],
      "metadata": {
        "id": "GIJOwa6ZaSQ2"
      }
    },
    {
      "cell_type": "code",
      "source": [
        "!pip install ucimlrepo"
      ],
      "metadata": {
        "colab": {
          "base_uri": "https://localhost:8080/"
        },
        "id": "ha9yLpCaNeeX",
        "outputId": "10c07cea-41b8-4697-ffd7-607e6eb1e6ea"
      },
      "execution_count": 1,
      "outputs": [
        {
          "output_type": "stream",
          "name": "stdout",
          "text": [
            "Collecting ucimlrepo\n",
            "  Downloading ucimlrepo-0.0.3-py3-none-any.whl (7.0 kB)\n",
            "Installing collected packages: ucimlrepo\n",
            "Successfully installed ucimlrepo-0.0.3\n"
          ]
        }
      ]
    },
    {
      "cell_type": "code",
      "execution_count": 27,
      "metadata": {
        "id": "9_tHF9ORJopI"
      },
      "outputs": [],
      "source": [
        "## bringing in data\n",
        "from ucimlrepo import fetch_ucirepo\n",
        "\n",
        "##bring in packages for dataframe + stats\n",
        "import pandas as pd\n",
        "import scipy.stats as stats\n",
        "import statsmodels.api as sm\n",
        "from statsmodels.formula.api import ols\n",
        "from scipy.stats import shapiro\n",
        "from scipy.stats import levene\n",
        "from scipy.stats import f_oneway\n",
        "\n",
        "\n",
        "## for visualization\n",
        "import matplotlib.pyplot as plt"
      ]
    },
    {
      "cell_type": "code",
      "source": [
        "from ucimlrepo import fetch_ucirepo\n",
        "\n",
        "# fetch dataset\n",
        "diabetes_130_us_hospitals_for_years_1999_2008 = fetch_ucirepo(id=296)\n",
        "\n",
        "# data (as pandas dataframes)\n",
        "X = diabetes_130_us_hospitals_for_years_1999_2008.data.features\n",
        "y = diabetes_130_us_hospitals_for_years_1999_2008.data.targets\n",
        "\n",
        "# metadata\n",
        "print(diabetes_130_us_hospitals_for_years_1999_2008.metadata)\n",
        "\n",
        "# variable information\n",
        "print(diabetes_130_us_hospitals_for_years_1999_2008.variables)\n"
      ],
      "metadata": {
        "id": "XREhJpt0eloK"
      },
      "execution_count": null,
      "outputs": []
    },
    {
      "cell_type": "code",
      "source": [
        "\n",
        "df = pd.DataFrame(X)\n",
        "df"
      ],
      "metadata": {
        "id": "Nzlgy-cFaRgM"
      },
      "execution_count": null,
      "outputs": []
    },
    {
      "cell_type": "code",
      "source": [
        "stats.shapiro(df['number_diagnoses'])"
      ],
      "metadata": {
        "colab": {
          "base_uri": "https://localhost:8080/"
        },
        "id": "bcMa1nlAmrFy",
        "outputId": "cb3ef02d-ea0e-437b-f633-50dded4fe407"
      },
      "execution_count": 22,
      "outputs": [
        {
          "output_type": "execute_result",
          "data": {
            "text/plain": [
              "ShapiroResult(statistic=0.8056642413139343, pvalue=0.0)"
            ]
          },
          "metadata": {},
          "execution_count": 22
        }
      ]
    },
    {
      "cell_type": "markdown",
      "source": [
        "P Value Interpretation: 0.0 = the observed difference is unlikely to be due to chance"
      ],
      "metadata": {
        "id": "nx-eZT-aaZOL"
      }
    },
    {
      "cell_type": "markdown",
      "source": [
        "HOMOSCEDASTICITY TEST"
      ],
      "metadata": {
        "id": "OB5_gEcMbRxh"
      }
    },
    {
      "cell_type": "code",
      "source": [
        "group = df['number_diagnoses']\n",
        "\n",
        "# Perform the Levene's test on the dependent variable within each group\n",
        "pvalue = levene(df['num_medications'][group == 0], df['num_medications'][group == 1])\n",
        "\n",
        "print('P-value for Levene\\'s test:', pvalue)"
      ],
      "metadata": {
        "colab": {
          "base_uri": "https://localhost:8080/"
        },
        "id": "3xH4ZrqGbm1n",
        "outputId": "a63ccd4b-8597-435e-da95-56a009a17979"
      },
      "execution_count": 26,
      "outputs": [
        {
          "output_type": "stream",
          "name": "stdout",
          "text": [
            "P-value for Levene's test: LeveneResult(statistic=nan, pvalue=nan)\n"
          ]
        }
      ]
    },
    {
      "cell_type": "code",
      "source": [
        "df['number_diagnoses'].value_counts()\n",
        "df['num_medications'].value_counts()"
      ],
      "metadata": {
        "id": "4MgwDRQbU9us"
      },
      "execution_count": null,
      "outputs": []
    },
    {
      "cell_type": "code",
      "source": [
        "number_diagnoses_counts = df['number_diagnoses'].value_counts()\n",
        "num_medications_value = df['num_medications'].value_counts()"
      ],
      "metadata": {
        "id": "qK-22LhgVt04"
      },
      "execution_count": 31,
      "outputs": []
    },
    {
      "cell_type": "code",
      "source": [
        "import numpy as np\n",
        "\n",
        "# Calculate mean\n",
        "num_medications_value = df['num_medications'].mean()\n",
        "\n",
        "# Calculate standard deviation\n",
        "num_medications_std = df['num_medications'].std()\n",
        "\n",
        "# Calculate mean\n",
        "number_diagnoses_mean = df['number_diagnoses'].mean()\n",
        "\n",
        "# Calculate standard deviation\n",
        "number_diagnoses_std = df['number_diagnoses'].std()\n",
        "\n",
        "print(num_medications_value)\n",
        "print(num_medications_std)\n",
        "print(number_diagnoses_mean)\n",
        "print(number_diagnoses_std)"
      ],
      "metadata": {
        "colab": {
          "base_uri": "https://localhost:8080/"
        },
        "id": "zOG-rh8hVw_B",
        "outputId": "8c2b810b-5c05-4900-d3c9-190ed9e01c30"
      },
      "execution_count": 46,
      "outputs": [
        {
          "output_type": "stream",
          "name": "stdout",
          "text": [
            "16.021844230882614\n",
            "8.127566209167284\n",
            "7.422606764538254\n",
            "1.9336001449974287\n"
          ]
        }
      ]
    },
    {
      "cell_type": "code",
      "source": [
        "number_diagnoses = df.groupby\n"
      ],
      "metadata": {
        "id": "JoZ9UH2oV9En"
      },
      "execution_count": 43,
      "outputs": []
    },
    {
      "cell_type": "code",
      "source": [
        "number_diagnoses = number_diagnoses.mean()\n",
        "number_diagnoses_std = number_diagnoses.std()"
      ],
      "metadata": {
        "colab": {
          "base_uri": "https://localhost:8080/",
          "height": 197
        },
        "id": "TzMpX6S0Yuur",
        "outputId": "d3239eda-ceb3-4d40-bba0-32c71b1cac2f"
      },
      "execution_count": 48,
      "outputs": [
        {
          "output_type": "error",
          "ename": "AttributeError",
          "evalue": "ignored",
          "traceback": [
            "\u001b[0;31m---------------------------------------------------------------------------\u001b[0m",
            "\u001b[0;31mAttributeError\u001b[0m                            Traceback (most recent call last)",
            "\u001b[0;32m<ipython-input-48-3f42f70910f5>\u001b[0m in \u001b[0;36m<cell line: 1>\u001b[0;34m()\u001b[0m\n\u001b[0;32m----> 1\u001b[0;31m \u001b[0mnumber_diagnoses\u001b[0m \u001b[0;34m=\u001b[0m \u001b[0mnumber_diagnoses\u001b[0m\u001b[0;34m.\u001b[0m\u001b[0mmean\u001b[0m\u001b[0;34m(\u001b[0m\u001b[0;34m)\u001b[0m\u001b[0;34m\u001b[0m\u001b[0;34m\u001b[0m\u001b[0m\n\u001b[0m\u001b[1;32m      2\u001b[0m \u001b[0mnumber_diagnoses_std\u001b[0m \u001b[0;34m=\u001b[0m \u001b[0mnumber_diagnoses\u001b[0m\u001b[0;34m.\u001b[0m\u001b[0mstd\u001b[0m\u001b[0;34m(\u001b[0m\u001b[0;34m)\u001b[0m\u001b[0;34m\u001b[0m\u001b[0;34m\u001b[0m\u001b[0m\n",
            "\u001b[0;31mAttributeError\u001b[0m: 'function' object has no attribute 'mean'"
          ]
        }
      ]
    },
    {
      "cell_type": "code",
      "source": [
        "f_statistic, p_value = f_oneway(number_diagnoses.values)"
      ],
      "metadata": {
        "colab": {
          "base_uri": "https://localhost:8080/",
          "height": 179
        },
        "id": "1hEHV5c1Yuw2",
        "outputId": "0e0429cc-cd84-4363-eeb7-78f67622a9d3"
      },
      "execution_count": 47,
      "outputs": [
        {
          "output_type": "error",
          "ename": "AttributeError",
          "evalue": "ignored",
          "traceback": [
            "\u001b[0;31m---------------------------------------------------------------------------\u001b[0m",
            "\u001b[0;31mAttributeError\u001b[0m                            Traceback (most recent call last)",
            "\u001b[0;32m<ipython-input-47-f92941551023>\u001b[0m in \u001b[0;36m<cell line: 1>\u001b[0;34m()\u001b[0m\n\u001b[0;32m----> 1\u001b[0;31m \u001b[0mf_statistic\u001b[0m\u001b[0;34m,\u001b[0m \u001b[0mp_value\u001b[0m \u001b[0;34m=\u001b[0m \u001b[0mf_oneway\u001b[0m\u001b[0;34m(\u001b[0m\u001b[0mnumber_diagnoses\u001b[0m\u001b[0;34m.\u001b[0m\u001b[0mvalues\u001b[0m\u001b[0;34m)\u001b[0m\u001b[0;34m\u001b[0m\u001b[0;34m\u001b[0m\u001b[0m\n\u001b[0m",
            "\u001b[0;31mAttributeError\u001b[0m: 'function' object has no attribute 'values'"
          ]
        }
      ]
    }
  ]
}